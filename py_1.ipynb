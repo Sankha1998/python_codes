{
  "nbformat": 4,
  "nbformat_minor": 0,
  "metadata": {
    "colab": {
      "name": "py_1.ipynb",
      "provenance": []
    },
    "kernelspec": {
      "name": "python3",
      "display_name": "Python 3"
    }
  },
  "cells": [
    {
      "cell_type": "markdown",
      "metadata": {
        "id": "UPrypKeQwR17",
        "colab_type": "text"
      },
      "source": [
        "Q1.your task is just to read the input number and print it.\n",
        "Before attempting the programming assignments,\n",
        "Input:\n",
        "The input will contain only one number.\n",
        "\n",
        "Output:\n",
        "Output the same number.\n",
        "\n",
        "Example:\n",
        "\n",
        "Input:\n",
        "10\n",
        "\n",
        "Output:\n",
        "10\n"
      ]
    },
    {
      "cell_type": "code",
      "metadata": {
        "id": "gfMWmnHRwhBI",
        "colab_type": "code",
        "colab": {
          "base_uri": "https://localhost:8080/",
          "height": 54
        },
        "outputId": "4022ea4a-bfb0-459a-83ec-cdc47d3401b1"
      },
      "source": [
        "a = int(input())\n",
        "print(a)"
      ],
      "execution_count": 2,
      "outputs": [
        {
          "output_type": "stream",
          "text": [
            "11\n",
            "11\n"
          ],
          "name": "stdout"
        }
      ]
    },
    {
      "cell_type": "markdown",
      "metadata": {
        "id": "8jmHfc2Nw8VK",
        "colab_type": "text"
      },
      "source": [
        "Q2. you will have to take two numbers (integers) as input and print the addition.\n",
        "\n",
        "Input Format:\n",
        "\n",
        "The first line of the input contains two numbers separated by a space.\n",
        "\n",
        "Output Format:\n",
        "\n",
        "Print the addition in single line\n",
        "\n",
        "Example:\n",
        "\n",
        "Input:\n",
        "4 2\n",
        "\n",
        "Output:\n",
        "6"
      ]
    },
    {
      "cell_type": "code",
      "metadata": {
        "id": "XtKcysn3xAPE",
        "colab_type": "code",
        "colab": {
          "base_uri": "https://localhost:8080/",
          "height": 54
        },
        "outputId": "1714b130-1913-4622-8af1-61db31d90d9e"
      },
      "source": [
        "x,y = input().split(\" \")\n",
        "x = int(x)\n",
        "y = int(y)\n",
        "\n",
        "print(x+y)"
      ],
      "execution_count": 4,
      "outputs": [
        {
          "output_type": "stream",
          "text": [
            "4 2\n",
            "6\n"
          ],
          "name": "stdout"
        }
      ]
    },
    {
      "cell_type": "markdown",
      "metadata": {
        "id": "y-pY9-tUxXXz",
        "colab_type": "text"
      },
      "source": [
        "Given two numbers (integers) as input, print the smaller number.\n",
        "\n",
        "Input Format:\n",
        "The first line of input contains two numbers separated by a space\n",
        "\n",
        "Output Format:\n",
        "Print the smaller number\n",
        "\n",
        "Example:\n",
        "\n",
        "Input:\n",
        "2 3\n",
        "\n",
        "Output:\n",
        "2 "
      ]
    },
    {
      "cell_type": "code",
      "metadata": {
        "id": "1U68WmjPxPUp",
        "colab_type": "code",
        "colab": {
          "base_uri": "https://localhost:8080/",
          "height": 54
        },
        "outputId": "a202f57c-7549-44e1-8b7b-d0087c80d3ba"
      },
      "source": [
        "x,y = input().split(\" \")\n",
        "x = int(x)\n",
        "y = int(y)\n",
        "\n",
        "if(x<y):\n",
        "    print(x)\n",
        "else:\n",
        "    print(y)"
      ],
      "execution_count": 5,
      "outputs": [
        {
          "output_type": "stream",
          "text": [
            "2 3\n",
            "2\n"
          ],
          "name": "stdout"
        }
      ]
    },
    {
      "cell_type": "code",
      "metadata": {
        "id": "jhGliMWqxusX",
        "colab_type": "code",
        "colab": {}
      },
      "source": [
        ""
      ],
      "execution_count": 0,
      "outputs": []
    }
  ]
}