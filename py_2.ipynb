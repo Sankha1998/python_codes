{
  "nbformat": 4,
  "nbformat_minor": 0,
  "metadata": {
    "colab": {
      "name": "py_2.ipynb",
      "provenance": []
    },
    "kernelspec": {
      "name": "python3",
      "display_name": "Python 3"
    }
  },
  "cells": [
    {
      "cell_type": "markdown",
      "metadata": {
        "id": "lbzP1YCsx-af",
        "colab_type": "text"
      },
      "source": [
        "Q1.Given an array A of N numbers (integers), you have to write a program which prints the sum of the elements of array A with the corresponding elements of the reverse of array A.\n",
        "If array A has elements [1,2,3], then reverse of the array A will be [3,2,1] and the resultant array should be [4,4,4].\n",
        "\n",
        "Input Format:\n",
        "\n",
        "The first line of the input contains a number N representing the number of elements in array A.\n",
        "The second line of the input contains N numbers separated by a space. (after the last elements, there is no space)\n",
        "\n",
        "Output Format:\n",
        "\n",
        "Print the resultant array elements separated by a space. (no space after the last element)\n",
        "\n",
        "Example:\n",
        "\n",
        "Input:\n",
        "4\n",
        "\n",
        "\n",
        "2 5 3 1\n",
        "\n",
        "Output:\n",
        "3 8 8 3\n"
      ]
    },
    {
      "cell_type": "code",
      "metadata": {
        "id": "u3r50HxiyKlI",
        "colab_type": "code",
        "colab": {
          "base_uri": "https://localhost:8080/",
          "height": 72
        },
        "outputId": "92f4cf82-8407-4021-b170-75dc0b3b9373"
      },
      "source": [
        "s = int(input())\n",
        "n = input().split()\n",
        "\n",
        "if (len(n)==s): \n",
        "  b = n.copy()\n",
        "  n.reverse()\n",
        "  for j in range(0,s):\n",
        "    print(int(n[j])+int(b[j]) , end = \" \")"
      ],
      "execution_count": 2,
      "outputs": [
        {
          "output_type": "stream",
          "text": [
            "4\n",
            "2 5 3 1\n",
            "3 8 8 3 "
          ],
          "name": "stdout"
        }
      ]
    },
    {
      "cell_type": "markdown",
      "metadata": {
        "id": "zR9QRKyQzC9e",
        "colab_type": "text"
      },
      "source": [
        "Q2.Given a list of numbers (integers), find second maximum and second minimum in this list.\n",
        "\n",
        "Input Format:\n",
        "\n",
        "The first line contains numbers separated by a space.\n",
        "\n",
        "Output Format:\n",
        "\n",
        "Print second maximum and second minimum separated by a space\n",
        "\n",
        "Example:\n",
        "\n",
        "Input:\n",
        "\n",
        "1 2 3 4 5\n",
        "\n",
        "Output:\n",
        "\n",
        "4 2 "
      ]
    },
    {
      "cell_type": "code",
      "metadata": {
        "id": "PgouyUReydCq",
        "colab_type": "code",
        "colab": {
          "base_uri": "https://localhost:8080/",
          "height": 54
        },
        "outputId": "a4fe1e8d-c46b-476a-bec3-26830b8acde6"
      },
      "source": [
        "a = []\n",
        "n = input().split()\n",
        "for i in range (0,len(n)):\n",
        "  a.append(int(n[i]))\n",
        "a.remove(max(a))\n",
        "\n",
        "a.remove(min(a))\n",
        "x = max(a)\n",
        "y = min(a)\n",
        "print(x,y, end=\"\")"
      ],
      "execution_count": 3,
      "outputs": [
        {
          "output_type": "stream",
          "text": [
            "1 2 3 4 5\n",
            "4 2"
          ],
          "name": "stdout"
        }
      ]
    },
    {
      "cell_type": "code",
      "metadata": {
        "id": "klQ2N6R8zX9C",
        "colab_type": "code",
        "colab": {
          "base_uri": "https://localhost:8080/",
          "height": 54
        },
        "outputId": "e96fdd13-d983-4062-9f4e-1e4b4ae77212"
      },
      "source": [
        "a = [int(x) for x in input().split()]\n",
        "\n",
        "a.sort()\n",
        "\n",
        "print(a[-2],a[1])"
      ],
      "execution_count": 4,
      "outputs": [
        {
          "output_type": "stream",
          "text": [
            "1 2 3 4 5 6 7 8\n",
            "7 2\n"
          ],
          "name": "stdout"
        }
      ]
    },
    {
      "cell_type": "markdown",
      "metadata": {
        "id": "5UCjKre-zks8",
        "colab_type": "text"
      },
      "source": [
        "Q3.Given a list A of numbers (integers), you have to print those numbers which are not multiples of 5.\n",
        "\n",
        "Input Format:\n",
        "\n",
        "The first line contains the numbers of list A separated by a space.\n",
        "\n",
        "Output Format:\n",
        "\n",
        "Print the numbers in a single line separated by a space which are not multiples of 5.\n",
        "\n",
        "Example:\n",
        "\n",
        "Input:\n",
        "\n",
        "1 2 3 4 5 6 5\n",
        "\n",
        "Output:\n",
        "\n",
        "1 2 3 4 6"
      ]
    },
    {
      "cell_type": "code",
      "metadata": {
        "id": "4zKdhG8_zfEI",
        "colab_type": "code",
        "colab": {
          "base_uri": "https://localhost:8080/",
          "height": 54
        },
        "outputId": "b8c434ce-db5a-422f-b871-a2b0ef698c29"
      },
      "source": [
        "t = input().split(\" \")\n",
        "i = 0\n",
        "while(i<len(t)):\n",
        "  if int(t[i])%5!=0:\n",
        "         print(t[i], end = \" \")\n",
        "  i = i+1"
      ],
      "execution_count": 5,
      "outputs": [
        {
          "output_type": "stream",
          "text": [
            "1 2 3 4 5 6 5\n",
            "1 2 3 4 6 "
          ],
          "name": "stdout"
        }
      ]
    },
    {
      "cell_type": "code",
      "metadata": {
        "id": "9jh41Qd2z1Vi",
        "colab_type": "code",
        "colab": {}
      },
      "source": [
        ""
      ],
      "execution_count": 0,
      "outputs": []
    }
  ]
}